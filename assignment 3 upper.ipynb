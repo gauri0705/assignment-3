{
 "cells": [
  {
   "cell_type": "code",
   "execution_count": 4,
   "id": "3bff68e1",
   "metadata": {},
   "outputs": [
    {
     "name": "stdout",
     "output_type": "stream",
     "text": [
      "enter string=The quick Brow Fox\n",
      "no of upper case character is= 1\n",
      "no of lower case character is= 1\n",
      "no of upper case character is= 1\n",
      "no of lower case character is= 2\n",
      "no of upper case character is= 1\n",
      "no of lower case character is= 3\n",
      "no of upper case character is= 1\n",
      "no of lower case character is= 4\n",
      "no of upper case character is= 1\n",
      "no of lower case character is= 5\n",
      "no of upper case character is= 1\n",
      "no of lower case character is= 6\n",
      "no of upper case character is= 1\n",
      "no of lower case character is= 7\n",
      "no of upper case character is= 2\n",
      "no of lower case character is= 8\n",
      "no of upper case character is= 2\n",
      "no of lower case character is= 9\n",
      "no of upper case character is= 2\n",
      "no of lower case character is= 10\n",
      "no of upper case character is= 3\n",
      "no of lower case character is= 11\n",
      "no of upper case character is= 3\n",
      "no of lower case character is= 12\n"
     ]
    }
   ],
   "source": [
    "#Write a Python function that accepts a string and calculate the number of upper case letters and lower case letters.\n",
    "\n",
    "def  count(string):\n",
    "    upper_count=0\n",
    "    lower_count=0\n",
    "    for i in string:\n",
    "        if i.isupper():\n",
    "            upper_count=upper_count+1\n",
    "        elif i.islower():\n",
    "            lower_count+=1\n",
    "            print(\"no of upper case character is=\",upper_count)\n",
    "            print(\"no of lower case character is=\",lower_count)\n",
    "x=input(\"enter string=\")\n",
    "count(x)\n",
    "            "
   ]
  },
  {
   "cell_type": "code",
   "execution_count": null,
   "id": "48273e22",
   "metadata": {},
   "outputs": [],
   "source": []
  },
  {
   "cell_type": "code",
   "execution_count": null,
   "id": "a5f14ce3",
   "metadata": {},
   "outputs": [],
   "source": []
  }
 ],
 "metadata": {
  "kernelspec": {
   "display_name": "Python 3 (ipykernel)",
   "language": "python",
   "name": "python3"
  },
  "language_info": {
   "codemirror_mode": {
    "name": "ipython",
    "version": 3
   },
   "file_extension": ".py",
   "mimetype": "text/x-python",
   "name": "python",
   "nbconvert_exporter": "python",
   "pygments_lexer": "ipython3",
   "version": "3.9.13"
  }
 },
 "nbformat": 4,
 "nbformat_minor": 5
}
