{
 "cells": [
  {
   "cell_type": "code",
   "execution_count": 11,
   "id": "a74d460f",
   "metadata": {},
   "outputs": [
    {
     "name": "stdout",
     "output_type": "stream",
     "text": [
      "20\n"
     ]
    }
   ],
   "source": [
    "#Write a Python function to sum all the numbers in a list.\n",
    "list=[8, 2, 3, 0, 7]\n",
    "def sum(list):\n",
    "    total =0\n",
    "    for i in list:\n",
    "        total=total+i\n",
    "    return total\n",
    "print(sum(list))"
   ]
  },
  {
   "cell_type": "code",
   "execution_count": null,
   "id": "0740251d",
   "metadata": {},
   "outputs": [],
   "source": []
  },
  {
   "cell_type": "code",
   "execution_count": null,
   "id": "1f14d451",
   "metadata": {},
   "outputs": [],
   "source": []
  }
 ],
 "metadata": {
  "kernelspec": {
   "display_name": "Python 3 (ipykernel)",
   "language": "python",
   "name": "python3"
  },
  "language_info": {
   "codemirror_mode": {
    "name": "ipython",
    "version": 3
   },
   "file_extension": ".py",
   "mimetype": "text/x-python",
   "name": "python",
   "nbconvert_exporter": "python",
   "pygments_lexer": "ipython3",
   "version": "3.9.13"
  }
 },
 "nbformat": 4,
 "nbformat_minor": 5
}
